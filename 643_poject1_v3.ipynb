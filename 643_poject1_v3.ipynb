{
 "cells": [
  {
   "cell_type": "markdown",
   "metadata": {},
   "source": [
    "## CMSC643 : Machine Learning \n",
    "\n",
    "## Mahdi Navari\n",
    "\n",
    "## Project 1:\n",
    "\n",
    "### Similar document searching via MinHash and Locality Sensitive Hashing\n",
    "In this first project we will implement the system described in the lecture notes for similar document searching. This project is inspired by http://mccormickml.com/2015/06/12/minhash-tutorial-with-python-code/ (Note: you can look at code there for inspiration but implement your own).\n",
    "The Task\n",
    "We will use documents from this repository http://www.inf.ed.ac.uk/teaching/courses/tts/assessed/assessment3.html. This is a dataset of documents for which we want to find possible plagiarism. It consists of 10,000 documents for which some pairs are tagged as instances of plagiarism. The goal of this exercise is to see how effectively and efficiently a minhash and LSH system can identify these instances.\n",
    "Note that smaller subsets of data suitable for testing are available here: https://github.com/chrisjmccormick/MinHash/tree/master/data\\\n",
    "\n",
    "### Obtaining data\n",
    " You can use the following python code to download data for the project\n",
    "\n"
   ]
  },
  {
   "cell_type": "code",
   "execution_count": 1,
   "metadata": {},
   "outputs": [],
   "source": [
    "\n",
    "import os\n",
    "from six.moves import urllib\n",
    "\n",
    "\n",
    "DOWNLOAD_ROOT = \"https://raw.githubusercontent.com/chrisjmccormick/MinHash/master/data\"\n",
    "PLAGIARISM_PATH = \"datasets/plagiarism\"\n",
    "DATA_SIZES = [100,1000,2500,10000]\n",
    "\n",
    "def fetch_data(download_root=DOWNLOAD_ROOT, \n",
    "               plagiarism_path=PLAGIARISM_PATH, \n",
    "               data_sizes=DATA_SIZES,\n",
    "               maxsize=1000):\n",
    "  if not os.path.isdir(plagiarism_path):\n",
    "      os.makedirs(plagiarism_path)\n",
    "  for size in data_sizes:\n",
    "      if size <= maxsize:\n",
    "          train_file = \"articles_\" + str(size) + \".train\" \n",
    "          train_path = plagiarism_path + '/' + train_file\n",
    "          if not os.path.exists(train_path):\n",
    "              train_url = download_root + '/' + train_file\n",
    "              urllib.request.urlretrieve(train_url, train_path)\n",
    "          \n",
    "          truth_file = \"articles_\" + str(size) + \".truth\"\n",
    "          truth_path = plagiarism_path + '/' + truth_file\n",
    "          if not os.path.exists(truth_path):\n",
    "              truth_url = download_root + \"/\" + truth_file\n",
    "              urllib.request.urlretrieve(truth_url, truth_path)\n",
    "                \n",
    "                \n",
    "fetch_data(maxsize=1000)\n"
   ]
  },
  {
   "cell_type": "markdown",
   "metadata": {},
   "source": [
    "## Part I: Preliminaries\n",
    "### Part IA: Dataset parsing\n",
    "Write a function parse_datathat given the path to a filename, reads in the article data and returns an array of tuples. With\n",
    "\n",
    "One tuple per article (there is one article per line)\n",
    "\n",
    "For each article tuples will contain (id, string) where id is the article id and string is the article text as described next\n",
    "\n",
    "Process the article text to\n",
    "- remove all punctuation\n",
    "- change all letters to lowercase\n",
    "- remove all whitespace so that all words are concatenated\n"
   ]
  },
  {
   "cell_type": "code",
   "execution_count": 2,
   "metadata": {},
   "outputs": [],
   "source": [
    "import string \n",
    "\n",
    "def parse_data(filename):\n",
    "    \n",
    "  # read lines from filename\n",
    "    f = open(filename, 'r')\n",
    "    lines = f.readlines()\n",
    "    \n",
    "    # construct tuple of id and text\n",
    "    doc_tuples = []\n",
    "    for line in lines: \n",
    "        \n",
    "        space_index = line.find(' ')\n",
    "        docid = line[:space_index]\n",
    "        text = line[space_index+1:]      \n",
    "        \n",
    "        # process string as described above  \n",
    "        translator = str.maketrans('', '', string.punctuation)\n",
    "        text = text.translate(translator)       \n",
    "        text = text.lower().replace(\" \", \"\")\n",
    "        \n",
    "       # return tuple with id and processed string       \n",
    "        doc_tuples.append ((docid,text)) \n",
    "    return doc_tuples"
   ]
  },
  {
   "cell_type": "code",
   "execution_count": 4,
   "metadata": {
    "collapsed": true
   },
   "outputs": [],
   "source": [
    "#file_name= PLAGIARISM_PATH + '/articles_100.train'\n",
    "#parse_data(file_name)"
   ]
  },
  {
   "cell_type": "markdown",
   "metadata": {
    "collapsed": true
   },
   "source": [
    "### Part IB: Document shingles\n",
    "Write a function shingle_document that given a processed article string and a parameter k shards the document as follows:\n",
    "- each substring of length $k$ in document is hashed to a 32-bit integer (see crc32 fucntion in https://docs.python.org/3/library/binascii.html)\n",
    "- returns a list of the unique 32-bit integers obtained in previous step (look at python sets for this)"
   ]
  },
  {
   "cell_type": "code",
   "execution_count": 3,
   "metadata": {},
   "outputs": [],
   "source": [
    "from binascii import crc32\n",
    "def shingle_document(text,k):\n",
    "    itemset = set()\n",
    "    for i in range (len(text)-k+1):\n",
    "        item = text[i:(i+k)]\n",
    "        item_hash = crc32(item.encode()) & 0xffffffff\n",
    "        itemset.add(item_hash)\n",
    "    return itemset"
   ]
  },
  {
   "cell_type": "markdown",
   "metadata": {},
   "source": [
    "### 1C Jaccard Similarity\n",
    "Write a function jaccard that given two sharded documents, computes their Jaccard distance"
   ]
  },
  {
   "cell_type": "code",
   "execution_count": 4,
   "metadata": {},
   "outputs": [],
   "source": [
    "def jaccard(a, b):\n",
    "  # compute union size\n",
    "   union_size = len (a.union(b))\n",
    "  # compute intersection size\n",
    "   intersection_size = len (a.intersection(b))\n",
    "  # return ratio of union and intersection\n",
    "   return intersection_size / union_size  "
   ]
  },
  {
   "cell_type": "code",
   "execution_count": null,
   "metadata": {},
   "outputs": [],
   "source": []
  },
  {
   "cell_type": "markdown",
   "metadata": {},
   "source": [
    "### Part ID: Put these together\n",
    "Write a function that uses the above to do the following:\n",
    "- Parse a file with data\n",
    "- Return a list of tuples each tuple contains: (id1, id2, s), where id1 and id2 are document ids and s is the computed Jaccard similarity"
   ]
  },
  {
   "cell_type": "code",
   "execution_count": 5,
   "metadata": {},
   "outputs": [],
   "source": [
    "def documents_JS (filename , k):\n",
    "    similarity_tuples = []\n",
    "    parsed_data = parse_data(filename)\n",
    "    for i in range(len(parsed_data)):\n",
    "        for j in range(i+1, len(parsed_data)):\n",
    "            s1 = shingle_document(parsed_data[i][1],k)\n",
    "            s2 = shingle_document(parsed_data[j][1],k)\n",
    "            JSim = jaccard(s1, s2)\n",
    "            id1 = parsed_data[i][0]\n",
    "            id2 = parsed_data[j][0]\n",
    "            similarity_tuples.append ((id1,id2, JSim))          \n",
    "    return similarity_tuples\n"
   ]
  },
  {
   "cell_type": "code",
   "execution_count": 6,
   "metadata": {},
   "outputs": [],
   "source": [
    "# test\n",
    "#documents_JS(\"datasets/plagiarism/articles_100.train\",5)"
   ]
  },
  {
   "cell_type": "markdown",
   "metadata": {},
   "source": [
    "### Part IE: Experiment 0\n",
    "\n",
    "Use your function to carry out the following experiment:\n",
    "\n",
    "What is the effect of sharding length k on the Jaccard similarity of plagiarism instances versus instances that are not plagiarized. Carry out this experiment using the 1000 document dataset. \n",
    "\n",
    "In this experiment, the size of k was changed from 2 to 30"
   ]
  },
  {
   "cell_type": "code",
   "execution_count": 7,
   "metadata": {
    "scrolled": false
   },
   "outputs": [],
   "source": [
    "# Generate two lists  \n",
    "# 1) list of plagiarized documents \n",
    "# 2) list of random non-palgiarized documents \n",
    "\n",
    "import random\n",
    "import numpy as np\n",
    "def list_of_plagiarized_nonpalgiarized_doc (fname_train, fname_truth):\n",
    "    import random\n",
    "    f=open(fname_truth,'r') \n",
    "    plagiarized_list=[]\n",
    "    non_plagiarized_list=[]\n",
    "    lines=f.readlines()\n",
    "\n",
    "    list_truth=[]\n",
    "    for line in lines:\n",
    "        # extract documents ids  \n",
    "        doc_id1 = line.split(' ')[0]\n",
    "        doc_id2 = line.split(' ')[1].strip()\n",
    "        list_truth.append(doc_id1)\n",
    "        list_truth.append(doc_id2)    \n",
    "        \n",
    "        truth_tuples=(doc_id1,doc_id2)   \n",
    "        plagiarized_list.append(truth_tuples)\n",
    "        \n",
    "    parsed_data = parse_data (fname_train)\n",
    "    num_doc=len(parsed_data)\n",
    "   \n",
    "    for i in list_truth:\n",
    "    \n",
    "        j= parsed_data[random.randint(0,num_doc)][0] \n",
    "        #print (j)\n",
    "        while j in list_truth:\n",
    "            j= parsed_data[random.randint(0,num_doc)][0]\n",
    "        tmp=(i,j)  \n",
    "        non_plagiarized_list.append(tmp)\n",
    "        \n",
    "    return plagiarized_list, non_plagiarized_list\n",
    "\n",
    "#list_of_plagiarized_nonpalgiarized_doc (\"datasets/plagiarism/articles_1000.train\", \"datasets/plagiarism/articles_1000.truth\")\n"
   ]
  },
  {
   "cell_type": "code",
   "execution_count": 8,
   "metadata": {},
   "outputs": [
    {
     "data": {
      "text/plain": [
       "(0.98765166091951984, 0.034831671231058917)"
      ]
     },
     "execution_count": 8,
     "metadata": {},
     "output_type": "execute_result"
    }
   ],
   "source": [
    "def JS_of_plagiarized_nonpalgiarized_docs (fname_train, fname_truth,k):\n",
    "\n",
    "    \n",
    "    parsed_data = parse_data(fname_train)\n",
    "    docids = []\n",
    "    for i in range(len(parsed_data)):\n",
    "        docids.append(parsed_data[i][0]) \n",
    "        \n",
    "    plagiarized_list, non_plagiarized_list =  list_of_plagiarized_nonpalgiarized_doc (fname_train, fname_truth)\n",
    "\n",
    "        \n",
    "    JS_plagiarized=[]\n",
    "    for i,j in plagiarized_list:\n",
    "        idx1=docids.index(i)\n",
    "        idx2=docids.index(j)\n",
    "\n",
    "        s1=shingle_document(parsed_data[idx1][1], k)\n",
    "        s2=shingle_document(parsed_data[idx2][1], k)\n",
    "        JS_plagiarized.append(jaccard(s1,s2))\n",
    "\n",
    "    JS_plagiarized_mean = np.average(JS_plagiarized)\n",
    "    \n",
    "    JS_non_plagiarized=[]\n",
    "    for i,j in non_plagiarized_list:\n",
    "        idx1=docids.index(i)\n",
    "        idx2=docids.index(j)\n",
    "        s1=shingle_document(parsed_data[idx1][1], k)\n",
    "        s2=shingle_document(parsed_data[idx2][1], k)\n",
    "        JS_non_plagiarized.append(jaccard(s1,s2))\n",
    " \n",
    "\n",
    "    JS_non_plagiarized_mean = np.average(JS_non_plagiarized)\n",
    "\n",
    "    return JS_plagiarized_mean, JS_non_plagiarized_mean    \n",
    "        \n",
    "JS_of_plagiarized_nonpalgiarized_docs (\"datasets/plagiarism/articles_1000.train\", \"datasets/plagiarism/articles_1000.truth\",5)"
   ]
  },
  {
   "cell_type": "code",
   "execution_count": null,
   "metadata": {},
   "outputs": [],
   "source": []
  },
  {
   "cell_type": "code",
   "execution_count": 12,
   "metadata": {},
   "outputs": [
    {
     "data": {
      "image/png": "[encoded data removed]",
      "text/plain": [
       "<matplotlib.figure.Figure at 0x7f47898>"
      ]
     },
     "metadata": {},
     "output_type": "display_data"
    }
   ],
   "source": [
    "import matplotlib.pyplot as plt\n",
    "%matplotlib inline\n",
    "\n",
    "fname_train=\"datasets/plagiarism/articles_1000.train\"\n",
    "fname_truth=\"datasets/plagiarism/articles_1000.truth\"\n",
    "list_JS_plagiarized_mean=[]\n",
    "list_JS_non_plagiarized_mean=[]\n",
    "list_k=[]\n",
    "for k in range (1,30,2):\n",
    "\n",
    "    JS_plagiarized_mean, JS_non_plagiarized_mean = JS_of_plagiarized_nonpalgiarized_docs (fname_train, fname_truth,k)\n",
    "    \n",
    "    list_JS_plagiarized_mean.append(JS_plagiarized_mean)\n",
    "    list_JS_non_plagiarized_mean.append(JS_non_plagiarized_mean)\n",
    "    list_k.append(k)\n",
    "    \n",
    "plt.plot(list_k,list_JS_plagiarized_mean)    \n",
    "plt.plot(list_k,list_JS_non_plagiarized_mean)  \n",
    "plt.legend(['Plagiarism mean similarity', 'Non-plagiarism mean similarity'])\n",
    "plt.xlabel('Shingling Length K')\n",
    "plt.ylabel('Jaccard Similarity')\n",
    "plt.title('Jaccard Similarity vs. Shingle Length (K) ')\n",
    "plt.show()                                                                                                \n",
    "    "
   ]
  },
  {
   "cell_type": "markdown",
   "metadata": {},
   "source": [
    "The shingle length k paly an impostrant role in the jaccard similarity.\n",
    "For this type of document a shingle length of k>5 is a resonable threshold \n",
    "to detect the plagiarism and non-palgiarism  "
   ]
  },
  {
   "cell_type": "markdown",
   "metadata": {},
   "source": [
    "## Part II: MinHash\n",
    "### Part IIA: Prepare shingles for processing\n",
    "Implement a function that takes the shingled documents and returns a list of item-document pairs sorted by items that we’ll use to compute the minhash signature of each document. Remember that because of the shingling logic we used above, we represent items as 32-bit integers. The function specs are as follows:\n",
    "- Input is a list of tuples of form (docid, [items])\n",
    "- Output will be a tuple with two elements:\n",
    "    - a list of tuples of form (item, docid). It will contain one entry for each item appearing in each document.\n",
    "    - a list of document ids found in the dataset\n",
    "- Output should be sorted by item"
   ]
  },
  {
   "cell_type": "code",
   "execution_count": 13,
   "metadata": {
    "collapsed": true
   },
   "outputs": [],
   "source": [
    "def invert_shingles(shingled_documents):  \n",
    "\n",
    "  # initialize list for tuples\n",
    "    shinglesInDocs = []\n",
    "  # initialize list for document ids\n",
    "    docNames = []\n",
    "    \n",
    "  # for each document in input\n",
    "    for i in range(0, len(shingled_documents)):\n",
    "    # append document id to list\n",
    "        DocId = shingled_documents[i][0]\n",
    "        docNames.append(DocId)\n",
    "    # for each item in document\n",
    "        for j in range(0, len(shingled_documents[i][1])):\n",
    "      # append (item, docid) tuple\n",
    "            shinglesInDocs.append((list(shingled_documents[i][1])[j] , DocId))\n",
    "  # sort tuple list\n",
    "    shinglesInDocs.sort(key=lambda tup: tup[0]) # sort by first element\n",
    "  # return sorted tuple list, and document list\n",
    "    return shinglesInDocs ,docNames"
   ]
  },
  {
   "cell_type": "code",
   "execution_count": 14,
   "metadata": {
    "collapsed": true
   },
   "outputs": [],
   "source": [
    "def shingles_of_documents (filename,k):\n",
    "    parsed_data = parse_data(filename)\n",
    "    shingled_documents=[]\n",
    "    for i in range(len(parsed_data)):\n",
    "        tmp = shingle_document(parsed_data[i][1], k)\n",
    "        shingled_item=(parsed_data[i][0],tmp)    \n",
    "        \n",
    "        shingled_documents+=[shingled_item]   \n",
    "    \n",
    "    return shingled_documents"
   ]
  },
  {
   "cell_type": "code",
   "execution_count": 15,
   "metadata": {
    "collapsed": true
   },
   "outputs": [],
   "source": [
    "# Test\n",
    "#shingled_documents = shingles_of_documents (\"datasets/plagiarism/articles_100.train\",5)\n",
    "#invert_shingles(shingled_documents)"
   ]
  },
  {
   "cell_type": "markdown",
   "metadata": {},
   "source": [
    "### Part IIB: Generate hash functions\n",
    "Use the generate_random_hash_fn function below to create function make_hashes. Given input num_hashes this function will return a list of hash functions that mimic the random permutation approach used in Minhash calculation. The function specs are:\n",
    "- Input is an integer num_hash\n",
    "- Output is a list of hash functions created by function generate_random_hash_fn"
   ]
  },
  {
   "cell_type": "code",
   "execution_count": 16,
   "metadata": {
    "collapsed": true
   },
   "outputs": [],
   "source": [
    "import random\n",
    "\n",
    "def make_random_hash_fn(p=2**33-355, m=4294967295):\n",
    "    a = random.randint(1,p-1)\n",
    "    b = random.randint(0, p-1)\n",
    "    return lambda x: ((a * x + b) % p) % m\n",
    "#This is an example of how to use this function:\n",
    "#hash_fn = make_random_hash_fn()\n",
    "#hash_fn(12345)"
   ]
  },
  {
   "cell_type": "code",
   "execution_count": 17,
   "metadata": {},
   "outputs": [
    {
     "data": {
      "text/plain": [
       "[<function __main__.make_random_hash_fn.<locals>.<lambda>>,\n",
       " <function __main__.make_random_hash_fn.<locals>.<lambda>>]"
      ]
     },
     "execution_count": 17,
     "metadata": {},
     "output_type": "execute_result"
    }
   ],
   "source": [
    "def make_hashes (num_hashes):\n",
    "    hash_fns = []\n",
    "    for i in range(0,num_hashes):\n",
    "        hash_fns.append(make_random_hash_fn())\n",
    "    return hash_fns\n",
    "# Test\n",
    "make_hashes(2)"
   ]
  },
  {
   "cell_type": "markdown",
   "metadata": {},
   "source": [
    "### Part IIC: Construct the Minhash Signature Matrix\n",
    "Implement a function that builds the Minhash signature matrix. You can use this code as a starting point. It refers to the functions you implemented above and sketches the construction algorithm."
   ]
  },
  {
   "cell_type": "code",
   "execution_count": 24,
   "metadata": {
    "collapsed": true
   },
   "outputs": [],
   "source": [
    "import numpy as np\n",
    "\n",
    "def make_minhash_signature(shingled_data, num_hashes):\n",
    "    inv_index, docids = invert_shingles(shingled_data)\n",
    "    num_docs = len(docids)\n",
    "  \n",
    "  # initialize the signature matrix with infinity in every entry\n",
    "    sigmatrix = np.full([num_hashes, num_docs], np.inf)\n",
    "  \n",
    "  # generate hash functions\n",
    "    hash_funcs = make_hashes(num_hashes)\n",
    "  \n",
    "  # iterate over each non-zero entry of the characteristic matrix\n",
    "    for row, docid in inv_index:\n",
    "    # update signature matrix if needed \n",
    "        for hash_func in range(0,num_hashes):\n",
    "            sigmatrix[hash_func,docids.index(docid)] = min(sigmatrix[hash_func,docids.index(docid)],hash_funcs[hash_func](row))                     \n",
    "    # THIS IS WHAT YOU NEED TO IMPLEMENT\n",
    "  \n",
    "    return sigmatrix, docids"
   ]
  },
  {
   "cell_type": "code",
   "execution_count": 56,
   "metadata": {},
   "outputs": [],
   "source": [
    "# Test\n",
    "#shingled_documents = shingles_of_documents (\"datasets/plagiarism/articles_100.train\",5)\n",
    "#make_minhash_signature(shingled_documents, 5)"
   ]
  },
  {
   "cell_type": "markdown",
   "metadata": {
    "collapsed": true
   },
   "source": [
    "### Part IID: MinHash similarity estimate\n",
    "Write a function that computes the similarity of two documents using the minhash matrix computed above. The function specs are:\n",
    "- Input:\n",
    "    - id1, id2: document ids\n",
    "    - minhash_sigmat: minhash signature matrix\n",
    "    - docids: list of document ids, used to index the columns of the minhash signature matrix\n",
    "- Output: Jaccard similarity estimated using minhash              "
   ]
  },
  {
   "cell_type": "code",
   "execution_count": 31,
   "metadata": {
    "collapsed": true
   },
   "outputs": [],
   "source": [
    "def minhash_similarity(idx1, idx2, minhash_sigmat, docids):\n",
    "   # get column of the similarity matrix for the two documents\n",
    "    col_idx1=docids.index(idx1)\n",
    "    col_idx2=docids.index(idx2)\n",
    "   \n",
    "   # calculate the fraction of rows where two columns match\n",
    "   # hint # np.mean(a == b) computes the fraction of entries in which \n",
    "   # two vectors are equal\n",
    "    minhash_similarity_estimate = np.mean(minhash_sigmat[:, col_idx1] == minhash_sigmat[:, col_idx2])\n",
    "   \n",
    "   # return this fraction as the minhash similarity estimate\n",
    "    return minhash_similarity_estimate \n"
   ]
  },
  {
   "cell_type": "code",
   "execution_count": 34,
   "metadata": {},
   "outputs": [],
   "source": [
    "#print (minhash_similarity('t980','t2023', sigmatrix, docids))\n",
    "#print (minhash_similarity('t980','t5432', sigmatrix, docids))"
   ]
  },
  {
   "cell_type": "markdown",
   "metadata": {
    "collapsed": true
   },
   "source": [
    "### Part IIE: Put these together \n",
    "Write a function that given shingled documents computes the Minhash estimated similarities between each pair of documents. This will be similar to your function for Part ID"
   ]
  },
  {
   "cell_type": "code",
   "execution_count": 35,
   "metadata": {
    "collapsed": true
   },
   "outputs": [],
   "source": [
    "def minhash_similar_of_documents(shingles,num_hash):\n",
    "    \n",
    "    # input \"shingles\" is shingled_documents\n",
    "    array_of_minhash_similar_tuples=[]\n",
    "    shinglesInDocs ,docNames = invert_shingles(shingles)\n",
    "    sigmatrix, docids = make_minhash_signature(shingles, num_hash)\n",
    "    \n",
    "    for i in range(len(shingles)):        \n",
    "        for j in range (i+1, len(shingles)):                        \n",
    "            minhash_similar = minhash_similarity(shingles[i][0], shingles[j][0], sigmatrix, docids)                       \n",
    "            minhash_tuples = (shingles[i][0], shingles[j][0],sigmatrix)\n",
    "            \n",
    "            if minhash_similar>=0.8:                \n",
    "                array_of_minhash_similar_tuples+=[minhash_tuples]\n",
    "                print(minhash_tuples)\n",
    "            \n",
    "    return array_of_minhash_similar_tuples    "
   ]
  },
  {
   "cell_type": "code",
   "execution_count": 36,
   "metadata": {
    "collapsed": true,
    "scrolled": true
   },
   "outputs": [],
   "source": [
    "#filename= PLAGIARISM_PATH + '/articles_100.train'\n",
    "#shingles = shingles_of_documents(filename,5)\n",
    "#minhash_similar_of_documents(shingles,6)"
   ]
  },
  {
   "cell_type": "markdown",
   "metadata": {},
   "source": [
    "### Part IIF: Experiment 1\n",
    "Use your function to carry out the following experiment:\n",
    "What is the effect of the number of hash functions used to compute the Minhash signature on the accuracy of the Minhash estimate of Jaccard similarity. Carry out this experiment on the 1000 document dataset."
   ]
  },
  {
   "cell_type": "code",
   "execution_count": 37,
   "metadata": {
    "collapsed": true
   },
   "outputs": [],
   "source": [
    "def accuracy_of_minhashsig_to_jaccard (fname,num_hash,k):\n",
    "    \n",
    "    parsed_data = parse_data (fname)\n",
    "    docids=[]\n",
    "    for i in range(len(parsed_data)):\n",
    "        docids.append(parsed_data[i][0])\n",
    "        \n",
    "    shingles= shingles_of_documents(fname,k)\n",
    "    array_of_minhash_jaccard_accuracy=[]\n",
    "    \n",
    "    shinglesInDocs ,docNames = invert_shingles(shingles)\n",
    "    sigmatrix, docids = make_minhash_signature(shingles, num_hash)\n",
    "    \n",
    "    for i in range(len(shingles)):\n",
    "        for j in range (i+1, len(shingles)):\n",
    "                        \n",
    "            minhash_similar = minhash_similarity(shingles[i][0], shingles[j][0], sigmatrix,  docids)\n",
    "                        \n",
    "            idx1=docids.index(shingles[i][0])\n",
    "            idx2=docids.index(shingles[j][0])\n",
    "\n",
    "            s1=shingle_document(parsed_data[idx1][1], k)\n",
    "            s2=shingle_document(parsed_data[idx2][1], k)\n",
    "            jaccard_similar = jaccard(s1,s2)\n",
    "            \n",
    "            minhash_jaccard_accuracy = (minhash_similar - jaccard_similar)**2                            \n",
    "            array_of_minhash_jaccard_accuracy.append(minhash_jaccard_accuracy)\n",
    "                         \n",
    "    return array_of_minhash_jaccard_accuracy"
   ]
  },
  {
   "cell_type": "code",
   "execution_count": 110,
   "metadata": {
    "collapsed": true
   },
   "outputs": [],
   "source": [
    "filename=\"datasets/plagiarism/articles_1000.train\"\n",
    "k=5\n",
    "num_hash=10 \n",
    "acu_10 = accuracy_of_minhashsig_to_jaccard (filename,num_hash,k)\n",
    "num_hash=50\n",
    "acu_50 = accuracy_of_minhashsig_to_jaccard (filename,num_hash,k)\n",
    "num_hash=100\n",
    "acu_100 = accuracy_of_minhashsig_to_jaccard (filename,num_hash,k)\n",
    "num_hash=500\n",
    "acu_500 = accuracy_of_minhashsig_to_jaccard (filename,num_hash,k)"
   ]
  },
  {
   "cell_type": "code",
   "execution_count": 129,
   "metadata": {},
   "outputs": [
    {
     "data": {
      "image/png": "[encoded data removed]",
      "text/plain": [
       "<matplotlib.figure.Figure at 0x1c826278>"
      ]
     },
     "metadata": {},
     "output_type": "display_data"
    }
   ],
   "source": [
    "import matplotlib.pyplot as plt\n",
    "%matplotlib inline\n",
    "\n",
    "plt.boxplot([acu_10, acu_50, acu_100 ,acu_500]) \n",
    "plt.xticks([1,2,3,4], ['10','50','100','500'])\n",
    "plt.xlabel('Number of Hash function')\n",
    "plt.ylabel('Accuracy of the  \\n Minhash estimate')\n",
    "plt.title('Effect of the number of hash functions on the \\n accuracy of the Minhash estimate')\n",
    "plt.show() "
   ]
  },
  {
   "cell_type": "markdown",
   "metadata": {},
   "source": [
    "This plot shows that for this type of document a number larger than 500 would be sufficient for obtaining a reasonable accuracy. "
   ]
  },
  {
   "cell_type": "markdown",
   "metadata": {},
   "source": [
    "## Part III: Locality-Sensitive Hashing\n",
    "### Implement LSH\n",
    "Write a function that implements locality sensitive hashing. Function specifications:\n",
    "- Input:\n",
    "    - minash_sigmatrix: a minhash signature matrix\n",
    "    - numhashes: number of hash functions used to construct minhash signature matrix\n",
    "    - docids: list of document ids\n",
    "    - threshold a minimum Jaccard similarity threshold\n",
    "- Output:\n",
    "    - a list of hash tables \n"
   ]
  },
  {
   "cell_type": "code",
   "execution_count": 117,
   "metadata": {
    "collapsed": true
   },
   "outputs": [],
   "source": [
    "# save  \n",
    "acu_10\n",
    "import  csv\n",
    "\n",
    "with open(\"acu_10.csv\",\"w\") as f:\n",
    "    wr = csv.writer(f,delimiter=\"\\n\")\n",
    "    wr.writerow(acu_10)\n",
    "    \n",
    "with open(\"acu_50.csv\",\"w\") as f:\n",
    "    wr = csv.writer(f,delimiter=\"\\n\")\n",
    "    wr.writerow(acu_50)   \n",
    "    \n",
    "with open(\"acu_100.csv\",\"w\") as f:\n",
    "    wr = csv.writer(f,delimiter=\"\\n\")\n",
    "    wr.writerow(acu_100)   \n",
    "\n",
    "with open(\"acu_500.csv\",\"w\") as f:\n",
    "    wr = csv.writer(f,delimiter=\"\\n\")\n",
    "    wr.writerow(acu_500)"
   ]
  },
  {
   "cell_type": "markdown",
   "metadata": {},
   "source": [
    "#### Choosing the number of bands for LSH\n",
    "Given a similarity threshold, we need to choose the number of bands to use in LSH. Use this function to do this:"
   ]
  },
  {
   "cell_type": "code",
   "execution_count": 38,
   "metadata": {
    "collapsed": true
   },
   "outputs": [],
   "source": [
    "import scipy.optimize as opt\n",
    "import math\n",
    "\n",
    "def choose_nbands(threshold, nhashes):\n",
    "    error_fun = lambda x: (threshold-((1/x[0])**(x[0]/nhashes)))**2\n",
    "    res = opt.minimize(error_fun, x0=(10), method='Nelder-Mead')\n",
    "    b = int(math.ceil(res['x'][0]))\n",
    "    r = int(nhashes / b)\n",
    "    final_t = (1/b)**(1/r) # An approximation to the threshold\n",
    "    return b, final_t"
   ]
  },
  {
   "cell_type": "code",
   "execution_count": 39,
   "metadata": {
    "scrolled": true
   },
   "outputs": [
    {
     "data": {
      "text/plain": [
       "(10, 0.7943282347242815)"
      ]
     },
     "execution_count": 39,
     "metadata": {},
     "output_type": "execute_result"
    }
   ],
   "source": [
    "choose_nbands(0.8,100)"
   ]
  },
  {
   "cell_type": "markdown",
   "metadata": {},
   "source": [
    "#### Hashing a vector\n",
    "In LSH for each band we hash the r hash values for each document. We can use this function to generate a hash function for vectors"
   ]
  },
  {
   "cell_type": "code",
   "execution_count": 40,
   "metadata": {
    "collapsed": true
   },
   "outputs": [],
   "source": [
    "def _make_vector_hash(num_hashes, m=4294967295):\n",
    "    hash_fns = make_hashes(num_hashes)\n",
    "    def _f(vec):\n",
    "        acc = 0\n",
    "        for i in range(len(vec)):\n",
    "            h = hash_fns[i]\n",
    "            acc += h(vec[i])\n",
    "        #print(acc)\n",
    "        return acc % m\n",
    "    return _f"
   ]
  },
  {
   "cell_type": "code",
   "execution_count": 44,
   "metadata": {
    "scrolled": true
   },
   "outputs": [
    {
     "data": {
      "text/plain": [
       "3804127042"
      ]
     },
     "execution_count": 44,
     "metadata": {},
     "output_type": "execute_result"
    }
   ],
   "source": [
    "#hash_func=_make_vector_hash(4)\n",
    "#hash_func((3,4,0,4))"
   ]
  },
  {
   "cell_type": "code",
   "execution_count": 46,
   "metadata": {},
   "outputs": [],
   "source": [
    "# NOTE: This is not my work but I have tried to understand that\n",
    "from collections import defaultdict\n",
    "\n",
    "def do_lsh(minhash_sigmatrix, numhashes, docids, threshold):\n",
    "    b, _ = choose_nbands(threshold, numhashes)\n",
    "    r = int(numhashes / b)\n",
    "    narticles = len(docids)\n",
    "    # hash_func is an array of functions \n",
    "\n",
    "    hash_func = _make_vector_hash(r)\n",
    "    # example: generate hash_func of length 4 then we need to provide a n\n",
    "    # array of size 4 then it uses that number in the functions and return \n",
    "    # a single value \n",
    "    #hash_func=_make_vector_hash(4)\n",
    "    #hash_func((3,4,0,4))\n",
    "    \n",
    "    buckets = []\n",
    "    for band in range(b):\n",
    "        start_index = int(band * r)\n",
    "        end_index = min(start_index + r, numhashes)\n",
    "    \n",
    "        cur_buckets = defaultdict(list)\n",
    "    \n",
    "        for j in range(narticles):\n",
    "        # THIS IS WHAT YOU NEED TO IMPLEMENT\n",
    "        \n",
    "        # The key_val is a single number is obtained by hash_func\n",
    "        # the input is an array of size [start_index:end_index]. that ts \n",
    "        # jth column of the divided signiture matrix \n",
    "            key_val=hash_func(minhash_sigmatrix[start_index:end_index,j])\n",
    "            # for each doc j we have a key_val \n",
    "            single_bucket_dict={key_val:(docids[j],)}\n",
    "            for key in single_bucket_dict:\n",
    "                if key in cur_buckets:\n",
    "                    cur_buckets[key]+=(single_bucket_dict[key])\n",
    "                else:\n",
    "                    cur_buckets[key]=single_bucket_dict[key]\n",
    "           \n",
    "        buckets.append(cur_buckets)\n",
    "    return buckets"
   ]
  },
  {
   "cell_type": "markdown",
   "metadata": {},
   "source": [
    "### Find candidate similar article pairs\n",
    "Write a function that uses the result of your LSH function and returns list of candidate article pairs. Spec:\n",
    "- Input: the result of do_lsh\n",
    "- Output: list of tuples (docid1, docid2) each a candidate similar article pair according to LSH"
   ]
  },
  {
   "cell_type": "code",
   "execution_count": 48,
   "metadata": {
    "collapsed": true
   },
   "outputs": [],
   "source": [
    "# NOTE: This is not my work but I have tried to understand that\n",
    "def find_candidate_silimar_documents(buckets):\n",
    "    candidate_pairs=[]\n",
    "    for val in range(len(buckets)):\n",
    "        for key in buckets[val]:\n",
    "            if len(buckets[val][key])>1:\n",
    "                for i in range(len(buckets[val][key])-1):\n",
    "                    candidate=(buckets[val][key][i],buckets[val][key][i+1])\n",
    "                    candidate_pairs.append(candidate)\n",
    "        \n",
    "    return candidate_pairs    "
   ]
  },
  {
   "cell_type": "code",
   "execution_count": 49,
   "metadata": {
    "collapsed": true
   },
   "outputs": [],
   "source": [
    "# NOTE: This is not my work but I have tried to understand that\n",
    "def find_silimar_documents(file_name,k,num_hashes,threshold):\n",
    "    shingles= shingles_of_documents(file_name,k)\n",
    "    minhash_sigmat,list_of_documentid=make_minhash_signature(shingles, num_hashes)\n",
    "    buckets= do_lsh(minhash_sigmat, num_hashes, list_of_documentid, threshold)\n",
    "    candidate_list=find_candidate_silimar_documents(buckets)\n",
    "    similar_docs=[]\n",
    "    for i,j in candidate_list:\n",
    "        if (i,j) not in similar_docs:\n",
    "            if minhash_similarity(i, j, minhash_sigmat, list_of_documentid)>0.8:\n",
    "                similar=(i,j)\n",
    "                similar_docs.append(similar)\n",
    "    return similar_docs      "
   ]
  },
  {
   "cell_type": "code",
   "execution_count": 50,
   "metadata": {},
   "outputs": [
    {
     "data": {
      "text/plain": [
       "[('t980', 't2023'),\n",
       " ('t1088', 't5015'),\n",
       " ('t1297', 't4638'),\n",
       " ('t1768', 't5248'),\n",
       " ('t1952', 't3495')]"
      ]
     },
     "execution_count": 50,
     "metadata": {},
     "output_type": "execute_result"
    }
   ],
   "source": [
    "file_name=\"datasets/plagiarism/articles_100.train\"\n",
    "k=10\n",
    "num_hashes=30\n",
    "threshold=0.8\n",
    "similar_docs= find_silimar_documents(file_name,k,num_hashes,threshold)\n",
    "similar_docs"
   ]
  },
  {
   "cell_type": "markdown",
   "metadata": {},
   "source": [
    "### Experiment 2: LSH sensitivity\n",
    "Use these functions to compute the sensitivity and specificity of LSH as a function of the threshold. Use the 10,000 document dataset to perform this experiment."
   ]
  },
  {
   "cell_type": "code",
   "execution_count": 53,
   "metadata": {
    "collapsed": true
   },
   "outputs": [],
   "source": [
    "# NOTE: This is not my work but I have tried to understand that\n",
    "def LSH_specificity_sensitivity(file_name1,file_name2,k,num_hashes):\n",
    "\n",
    "    plagiarized_instances,_=list_of_plagiarized_nonpalgiarized_doc(file_name1,file_name2)\n",
    "\n",
    "    shingles= shingles_of_documents(file_name1,k)\n",
    "    minhash_sigmat,list_of_documentid=make_minhash_signature(shingles, num_hashes)\n",
    "    sensitivity=[]\n",
    "    specificity=[]\n",
    "    false_positive1=[]\n",
    "\n",
    "    for threshold in np.arange(0.2,1,0.2):\n",
    "        buckets= do_lsh(minhash_sigmat, num_hashes, list_of_documentid, threshold)\n",
    "        candidate_list=find_candidate_silimar_documents(buckets)\n",
    "        cur_true_positive=len(set(candidate_list).intersection(set(plagiarized_instances)))\n",
    "        cur_false_positive=len(candidate_list) - cur_true_positive\n",
    "        cur_false_negative=len(plagiarized_instances)-cur_true_positive\n",
    "        whole_negative = (len(list_of_documentid))**2 - len(candidate_list)\n",
    "        whole_positive=len(candidate_list)\n",
    "        cur_sensitivity= (1.0*cur_true_positive)/whole_positive\n",
    "        cur_specificity=(1.0*cur_false_positive)/whole_negative\n",
    "        sensitivity.append(cur_sensitivity)\n",
    "        specificity.append(cur_specificity)\n",
    "                                \n",
    "    return sensitivity, specificity"
   ]
  },
  {
   "cell_type": "code",
   "execution_count": 54,
   "metadata": {},
   "outputs": [],
   "source": [
    "# NOTE: This is not my work but I have tried to understand that\n",
    "file_name1=\"datasets/plagiarism/articles_1000.train\"\n",
    "file_name2=\"datasets/plagiarism/articles_1000.truth\"\n",
    "k=10\n",
    "num_hashes=100\n",
    "sensitivity, specificity= LSH_specificity_sensitivity(file_name1,file_name2,k,num_hashes)"
   ]
  },
  {
   "cell_type": "code",
   "execution_count": 55,
   "metadata": {},
   "outputs": [
    {
     "data": {
      "text/plain": [
       "<matplotlib.text.Text at 0x9a90860>"
      ]
     },
     "execution_count": 55,
     "metadata": {},
     "output_type": "execute_result"
    },
    {
     "data": {
      "image/png": "[encoded data removed]",
      "text/plain": [
       "<matplotlib.figure.Figure at 0x9b53320>"
      ]
     },
     "metadata": {},
     "output_type": "display_data"
    }
   ],
   "source": [
    "# NOTE: This is not my work but I have tried to understand that\n",
    "plt.plot(np.arange(0.2,1,0.2),sensitivity)    \n",
    "plt.plot(np.arange(0.2,1,0.2),specificity)  \n",
    "plt.legend(['LSH Sensitivity', 'LSH Specificity'],loc=5)\n",
    "plt.xlabel('Threshhold t')\n",
    "plt.ylabel('Percentage of Sensitivity and Specificity')\n",
    "plt.title('LSH Sensitivity and Specificity vs. Threshhold')"
   ]
  },
  {
   "cell_type": "code",
   "execution_count": null,
   "metadata": {
    "collapsed": true
   },
   "outputs": [],
   "source": []
  }
 ],
 "metadata": {
  "kernelspec": {
   "display_name": "Python 3",
   "language": "python",
   "name": "python3"
  },
  "language_info": {
   "codemirror_mode": {
    "name": "ipython",
    "version": 3
   },
   "file_extension": ".py",
   "mimetype": "text/x-python",
   "name": "python",
   "nbconvert_exporter": "python",
   "pygments_lexer": "ipython3",
   "version": "3.5.4"
  }
 },
 "nbformat": 4,
 "nbformat_minor": 2
}
